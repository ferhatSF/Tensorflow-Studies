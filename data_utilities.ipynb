{
  "nbformat": 4,
  "nbformat_minor": 0,
  "metadata": {
    "colab": {
      "name": "data_utilities.ipynb",
      "version": "0.3.2",
      "provenance": [],
      "include_colab_link": true
    },
    "kernelspec": {
      "name": "python3",
      "display_name": "Python 3"
    }
  },
  "cells": [
    {
      "cell_type": "markdown",
      "metadata": {
        "id": "view-in-github",
        "colab_type": "text"
      },
      "source": [
        "<a href=\"https://colab.research.google.com/github/ferhatSF/Tensorflow-Studies/blob/master/data_utilities.ipynb\" target=\"_parent\"><img src=\"https://colab.research.google.com/assets/colab-badge.svg\" alt=\"Open In Colab\"/></a>"
      ]
    },
    {
      "metadata": {
        "id": "FOOP1LwuvKPU",
        "colab_type": "code",
        "colab": {}
      },
      "cell_type": "code",
      "source": [
        "def generate_dataset(W_actual=1.5, b_actual=0.5, \n",
        "                     npoints=100,\n",
        "                     x_random=False,x_start=0, x_range=1,\n",
        "                     noise_amplitude=0.2):\n",
        "    \n",
        "    if x_random:\n",
        "        x_data = np.random.randn(npoints)*x_range + x_start\n",
        "    else:\n",
        "        x_data = np.linspace(x_start, x_start+x_range, npoints)\n",
        "        \n",
        "    noise  = np.random.randn(*x_data.shape) * noise_amplitude\n",
        "    y_data = x_data * W_actual + b_actual + noise\n",
        "    \n",
        "    x_true = np.linspace(min(x_data), max(x_data), 10)\n",
        "    y_true = x_true * W_actual + b_actual\n",
        "    \n",
        "    return(x_data,y_data,x_true,y_true)"
      ],
      "execution_count": 0,
      "outputs": []
    }
  ]
}